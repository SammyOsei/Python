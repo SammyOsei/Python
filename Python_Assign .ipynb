{
 "cells": [
  {
   "cell_type": "code",
   "execution_count": 41,
   "metadata": {
    "collapsed": false,
    "scrolled": true
   },
   "outputs": [
    {
     "name": "stdout",
     "output_type": "stream",
     "text": [
      "  % Total    % Received % Xferd  Average Speed   Time    Time     Time  Current\r\n",
      "                                 Dload  Upload   Total   Spent    Left  Speed\r\n",
      "\r",
      "  0     0    0     0    0     0      0      0 --:--:--  0:00:02 --:--:--     0\r",
      "100 21190  100 21190    0     0   8278      0  0:00:02  0:00:02 --:--:--  470k\r\n"
     ]
    }
   ],
   "source": [
    "!curl -O http://rachelss.github.io/Bioinformatics/sample.fastq"
   ]
  },
  {
   "cell_type": "code",
   "execution_count": 44,
   "metadata": {
    "collapsed": true
   },
   "outputs": [],
   "source": [
    "filename = 'sample.fastq'\n",
    "f = open(filename, 'r')\n",
    "fastq = f.readlines()"
   ]
  },
  {
   "cell_type": "code",
   "execution_count": 81,
   "metadata": {
    "collapsed": false
   },
   "outputs": [],
   "source": [
    "def count_2kmers():\n",
    "    '''This function counts the number of each pair of bases (kmers of size 2)'''\n",
    "    counter ={'AG':0, 'GT':0, 'TA':0, 'CA':0}#dictionary of strings of kmers of two and count\n",
    "    for line_number,line in enumerate(fastq[0:30]):# Go through each line and subset\n",
    "        if line_number%4==1:# check if it is a sequence, /4 remainder 1\n",
    "            line=line.rstrip()#strip line from each new line\n",
    "            for base_number, base in enumerate(line):# access base in line\n",
    "                if base_number != (len(line)-1):# consider base number in length of line\n",
    "                    kmer = line[base_number]+line[base_number+1]#find the kmer pairs\n",
    "                    if kmer in counter:#if kmer in dictionary\n",
    "                        counter[kmer]+=1 #increment counter for kmer\n",
    "    return(counter)#print results"
   ]
  },
  {
   "cell_type": "code",
   "execution_count": 64,
   "metadata": {
    "collapsed": false
   },
   "outputs": [],
   "source": [
    "\"\"\"function to Count the number of each pair of bases, without assumming you know in advance the possible pairs\"\"\"\n",
    "def counting_2kmers_unknown(string, k): # function that takes string and a value of k(integer)\n",
    "    counters = {}#an empty dictionary\n",
    "    n = len(string)#calculate length of string\n",
    "    \n",
    "    for i in range(0, n-k+1):#loop over, find position of kmer\n",
    "            kmer = string[i:i+k]#obtain each pair of kmer from the string\n",
    "            if kmer not in counters:# add kmer to dictionary if it is not there\n",
    "                counters[kmer] = 0\n",
    "            counters[kmer]+=1 #increment counter for kmer \n",
    "    return(counters)#return final counts"
   ]
  },
  {
   "cell_type": "code",
   "execution_count": 78,
   "metadata": {
    "collapsed": true
   },
   "outputs": [],
   "source": [
    "\"\"\"Function to count kmers of any size\"\"\"\n",
    "def count_kmers(string, k):# function that takes string and a value of k(integer)\n",
    "    counters = {}#an empty dictionary\n",
    "    n = len(string)#calculate length of string\n",
    "    \n",
    "    for i in range(0, n-k+1):#loop over, find position of kmer\n",
    "        kmer = string[i:i+k]#obtain each pair of kmer from the string\n",
    "        if kmer not in counters:# add kmer to dictionary if it is not there\n",
    "            counters[kmer] = 0\n",
    "            counters[kmer]+=1#increment counter for kmer\n",
    "    print(counters)"
   ]
  },
  {
   "cell_type": "code",
   "execution_count": null,
   "metadata": {
    "collapsed": true
   },
   "outputs": [],
   "source": [
    "\"\"\" count the number of bases across all sequence\"\"\"\n",
    "counter={'A' :0,'C':0,'G':0,'T':0} # dictioanary with strings of each base base and counts\n",
    "for line_number,line in enumerate(fastq):# Go through each line and check if it is sequence\n",
    "    if line_number%4==1: # #if line number / 4 leaves a remainder of 1\n",
    "        line=line.rstrip() #strip line from each new line\n",
    "        for base in line: # check if base is in line\n",
    "            counter[base]+=1 # count the number of bases in the sequence, add one more to count\n",
    "print(counter)# print dictionary with total counts of base in the sequence"
   ]
  },
  {
   "cell_type": "code",
   "execution_count": 70,
   "metadata": {
    "collapsed": false
   },
   "outputs": [
    {
     "data": {
      "text/plain": [
       "{'A': 2517, 'C': 2550, 'G': 2489, 'T': 2444}"
      ]
     },
     "execution_count": 70,
     "metadata": {},
     "output_type": "execute_result"
    }
   ],
   "source": [
    "counter"
   ]
  },
  {
   "cell_type": "markdown",
   "metadata": {},
   "source": [
    "The number of each pair of bases (kmers of size 2)"
   ]
  },
  {
   "cell_type": "code",
   "execution_count": 72,
   "metadata": {
    "collapsed": false
   },
   "outputs": [
    {
     "data": {
      "text/plain": [
       "{'AG': 45, 'CA': 43, 'GT': 56, 'TA': 48}"
      ]
     },
     "execution_count": 72,
     "metadata": {},
     "output_type": "execute_result"
    }
   ],
   "source": [
    "count_2kmers()"
   ]
  },
  {
   "cell_type": "markdown",
   "metadata": {},
   "source": [
    "Count the number of each pair of bases, without assumming you know in advance the possible pairs"
   ]
  },
  {
   "cell_type": "code",
   "execution_count": 76,
   "metadata": {
    "collapsed": false
   },
   "outputs": [
    {
     "data": {
      "text/plain": [
       "{'AA': 4,\n",
       " 'AC': 9,\n",
       " 'AG': 6,\n",
       " 'AT': 8,\n",
       " 'CA': 6,\n",
       " 'CC': 7,\n",
       " 'CG': 8,\n",
       " 'CT': 3,\n",
       " 'GA': 6,\n",
       " 'GC': 6,\n",
       " 'GG': 5,\n",
       " 'GT': 5,\n",
       " 'TA': 11,\n",
       " 'TC': 2,\n",
       " 'TG': 3,\n",
       " 'TT': 10}"
      ]
     },
     "execution_count": 76,
     "metadata": {},
     "output_type": "execute_result"
    }
   ],
   "source": [
    "counting_2kmers_unknown(\"ATTAATGGTAACCAATTAGAGACAAGCCCCTTACATTGGCACGGGTACGCGCGTATACTAGCGTTAGCGGACCCGTTAGACCACTTCGATATTTGATTCA\", 2)"
   ]
  },
  {
   "cell_type": "markdown",
   "metadata": {},
   "source": [
    " Count kmers of any size"
   ]
  },
  {
   "cell_type": "code",
   "execution_count": 79,
   "metadata": {
    "collapsed": false
   },
   "outputs": [
    {
     "name": "stdout",
     "output_type": "stream",
     "text": [
      "{'TTCC': 1, 'TCCT': 1, 'CCTT': 1, 'CTTG': 1, 'TTGG': 1, 'TGGA': 1, 'GGAT': 1, 'GATG': 1, 'ATGA': 1, 'TGAA': 1, 'GAAA': 1, 'AAAA': 1, 'AAAG': 1, 'AAGG': 1, 'AGGA': 1, 'GGAG': 1, 'GAGC': 1, 'AGCG': 1, 'GCGA': 1, 'CGAA': 1, 'GAAC': 1, 'AACG': 1, 'ACGG': 1, 'CGGC': 1, 'GGCC': 1, 'GCCT': 1, 'CTTT': 1, 'TTTT': 1, 'TTTA': 1, 'TTAG': 1, 'TAGC': 1, 'CGAG': 1, 'GAGT': 1, 'AGTA': 1, 'GTAA': 1, 'TAAC': 1, 'AACC': 1, 'ACCG': 1, 'CCGG': 1, 'CGGG': 1, 'GGGT': 1, 'GGTC': 1, 'GTCG': 1, 'TCGC': 1, 'CGCT': 1, 'GCTC': 1, 'CTCG': 1, 'TCGG': 1, 'CGGT': 1, 'GTCA': 1, 'TCAG': 1, 'CAGT': 1, 'AGTT': 1, 'GTTG': 1, 'TTGA': 1, 'TGAG': 1, 'GAGG': 1, 'AGGC': 1, 'GGCA': 1, 'GCAA': 1, 'CAAA': 1, 'AAAC': 1, 'AACT': 1, 'ACTT': 1, 'CTTC': 1, 'TTCA': 1, 'TCAT': 1, 'CATC': 1, 'ATCA': 1, 'TCAC': 1, 'CACT': 1, 'ACTC': 1, 'TCGA': 1, 'CGAT': 1, 'GATA': 1, 'ATAG': 1, 'TAGG': 1, 'AGGG': 1, 'GGGG': 1, 'GGTG': 1, 'GTGT': 1, 'TGTC': 1, 'GTCC': 1, 'TCCG': 1, 'CCGA': 1, 'GAAT': 1}\n"
     ]
    }
   ],
   "source": [
    "count_kmers(\"TTCCTTGGATGAAAAAAAAGGAGCGAACGGCCTTTTAGCGAGTAACCGGGTCGCTCGGTCAGTTGAGGCAAACTTCATCACTCGATAGGGGTGTCCGAAT\",4)"
   ]
  },
  {
   "cell_type": "code",
   "execution_count": null,
   "metadata": {
    "collapsed": true
   },
   "outputs": [],
   "source": []
  },
  {
   "cell_type": "code",
   "execution_count": null,
   "metadata": {
    "collapsed": true
   },
   "outputs": [],
   "source": []
  }
 ],
 "metadata": {
  "kernelspec": {
   "display_name": "Python 3",
   "language": "python",
   "name": "python3"
  },
  "language_info": {
   "codemirror_mode": {
    "name": "ipython",
    "version": 3
   },
   "file_extension": ".py",
   "mimetype": "text/x-python",
   "name": "python",
   "nbconvert_exporter": "python",
   "pygments_lexer": "ipython3",
   "version": "3.6.0"
  }
 },
 "nbformat": 4,
 "nbformat_minor": 2
}
